{
 "cells": [
  {
   "cell_type": "markdown",
   "id": "48201a71",
   "metadata": {},
   "source": [
    "## Checking the given Data"
   ]
  },
  {
   "cell_type": "code",
   "execution_count": 1,
   "id": "ede090f8",
   "metadata": {},
   "outputs": [
    {
     "data": {
      "text/html": [
       "<div>\n",
       "<style scoped>\n",
       "    .dataframe tbody tr th:only-of-type {\n",
       "        vertical-align: middle;\n",
       "    }\n",
       "\n",
       "    .dataframe tbody tr th {\n",
       "        vertical-align: top;\n",
       "    }\n",
       "\n",
       "    .dataframe thead th {\n",
       "        text-align: right;\n",
       "    }\n",
       "</style>\n",
       "<table border=\"1\" class=\"dataframe\">\n",
       "  <thead>\n",
       "    <tr style=\"text-align: right;\">\n",
       "      <th></th>\n",
       "      <th>No</th>\n",
       "      <th>trade_date</th>\n",
       "      <th>age</th>\n",
       "      <th>distance_to_MTR</th>\n",
       "      <th>number_of_stores</th>\n",
       "      <th>latitude</th>\n",
       "      <th>longitude</th>\n",
       "      <th>house_price_per_unit</th>\n",
       "    </tr>\n",
       "  </thead>\n",
       "  <tbody>\n",
       "    <tr>\n",
       "      <th>0</th>\n",
       "      <td>1</td>\n",
       "      <td>2012.917</td>\n",
       "      <td>32.0</td>\n",
       "      <td>84.87882</td>\n",
       "      <td>10</td>\n",
       "      <td>24.98298</td>\n",
       "      <td>121.54024</td>\n",
       "      <td>37.9</td>\n",
       "    </tr>\n",
       "    <tr>\n",
       "      <th>1</th>\n",
       "      <td>2</td>\n",
       "      <td>2012.917</td>\n",
       "      <td>19.5</td>\n",
       "      <td>306.59470</td>\n",
       "      <td>9</td>\n",
       "      <td>24.98034</td>\n",
       "      <td>121.53951</td>\n",
       "      <td>42.2</td>\n",
       "    </tr>\n",
       "    <tr>\n",
       "      <th>2</th>\n",
       "      <td>3</td>\n",
       "      <td>2013.583</td>\n",
       "      <td>13.3</td>\n",
       "      <td>561.98450</td>\n",
       "      <td>5</td>\n",
       "      <td>24.98746</td>\n",
       "      <td>121.54391</td>\n",
       "      <td>47.3</td>\n",
       "    </tr>\n",
       "    <tr>\n",
       "      <th>3</th>\n",
       "      <td>4</td>\n",
       "      <td>2013.500</td>\n",
       "      <td>13.3</td>\n",
       "      <td>561.98450</td>\n",
       "      <td>5</td>\n",
       "      <td>24.98746</td>\n",
       "      <td>121.54391</td>\n",
       "      <td>54.8</td>\n",
       "    </tr>\n",
       "    <tr>\n",
       "      <th>4</th>\n",
       "      <td>5</td>\n",
       "      <td>2012.833</td>\n",
       "      <td>5.0</td>\n",
       "      <td>390.56840</td>\n",
       "      <td>5</td>\n",
       "      <td>24.97937</td>\n",
       "      <td>121.54245</td>\n",
       "      <td>43.1</td>\n",
       "    </tr>\n",
       "    <tr>\n",
       "      <th>...</th>\n",
       "      <td>...</td>\n",
       "      <td>...</td>\n",
       "      <td>...</td>\n",
       "      <td>...</td>\n",
       "      <td>...</td>\n",
       "      <td>...</td>\n",
       "      <td>...</td>\n",
       "      <td>...</td>\n",
       "    </tr>\n",
       "    <tr>\n",
       "      <th>409</th>\n",
       "      <td>410</td>\n",
       "      <td>2013.000</td>\n",
       "      <td>13.7</td>\n",
       "      <td>4082.01500</td>\n",
       "      <td>0</td>\n",
       "      <td>24.94155</td>\n",
       "      <td>121.50381</td>\n",
       "      <td>15.4</td>\n",
       "    </tr>\n",
       "    <tr>\n",
       "      <th>410</th>\n",
       "      <td>411</td>\n",
       "      <td>2012.667</td>\n",
       "      <td>5.6</td>\n",
       "      <td>90.45606</td>\n",
       "      <td>9</td>\n",
       "      <td>24.97433</td>\n",
       "      <td>121.54310</td>\n",
       "      <td>50.0</td>\n",
       "    </tr>\n",
       "    <tr>\n",
       "      <th>411</th>\n",
       "      <td>412</td>\n",
       "      <td>2013.250</td>\n",
       "      <td>18.8</td>\n",
       "      <td>390.96960</td>\n",
       "      <td>7</td>\n",
       "      <td>24.97923</td>\n",
       "      <td>121.53986</td>\n",
       "      <td>40.6</td>\n",
       "    </tr>\n",
       "    <tr>\n",
       "      <th>412</th>\n",
       "      <td>413</td>\n",
       "      <td>2013.000</td>\n",
       "      <td>8.1</td>\n",
       "      <td>104.81010</td>\n",
       "      <td>5</td>\n",
       "      <td>24.96674</td>\n",
       "      <td>121.54067</td>\n",
       "      <td>52.5</td>\n",
       "    </tr>\n",
       "    <tr>\n",
       "      <th>413</th>\n",
       "      <td>414</td>\n",
       "      <td>2013.500</td>\n",
       "      <td>6.5</td>\n",
       "      <td>90.45606</td>\n",
       "      <td>9</td>\n",
       "      <td>24.97433</td>\n",
       "      <td>121.54310</td>\n",
       "      <td>63.9</td>\n",
       "    </tr>\n",
       "  </tbody>\n",
       "</table>\n",
       "<p>414 rows × 8 columns</p>\n",
       "</div>"
      ],
      "text/plain": [
       "      No  trade_date   age  distance_to_MTR  number_of_stores  latitude  \\\n",
       "0      1    2012.917  32.0         84.87882                10  24.98298   \n",
       "1      2    2012.917  19.5        306.59470                 9  24.98034   \n",
       "2      3    2013.583  13.3        561.98450                 5  24.98746   \n",
       "3      4    2013.500  13.3        561.98450                 5  24.98746   \n",
       "4      5    2012.833   5.0        390.56840                 5  24.97937   \n",
       "..   ...         ...   ...              ...               ...       ...   \n",
       "409  410    2013.000  13.7       4082.01500                 0  24.94155   \n",
       "410  411    2012.667   5.6         90.45606                 9  24.97433   \n",
       "411  412    2013.250  18.8        390.96960                 7  24.97923   \n",
       "412  413    2013.000   8.1        104.81010                 5  24.96674   \n",
       "413  414    2013.500   6.5         90.45606                 9  24.97433   \n",
       "\n",
       "     longitude  house_price_per_unit  \n",
       "0    121.54024                  37.9  \n",
       "1    121.53951                  42.2  \n",
       "2    121.54391                  47.3  \n",
       "3    121.54391                  54.8  \n",
       "4    121.54245                  43.1  \n",
       "..         ...                   ...  \n",
       "409  121.50381                  15.4  \n",
       "410  121.54310                  50.0  \n",
       "411  121.53986                  40.6  \n",
       "412  121.54067                  52.5  \n",
       "413  121.54310                  63.9  \n",
       "\n",
       "[414 rows x 8 columns]"
      ]
     },
     "execution_count": 1,
     "metadata": {},
     "output_type": "execute_result"
    }
   ],
   "source": [
    "import pandas as pd\n",
    "df=pd.read_csv(\"data_realestate.csv\")\n",
    "df"
   ]
  },
  {
   "cell_type": "code",
   "execution_count": 37,
   "id": "e00672b7",
   "metadata": {
    "scrolled": true
   },
   "outputs": [
    {
     "data": {
      "text/html": [
       "<div>\n",
       "<style scoped>\n",
       "    .dataframe tbody tr th:only-of-type {\n",
       "        vertical-align: middle;\n",
       "    }\n",
       "\n",
       "    .dataframe tbody tr th {\n",
       "        vertical-align: top;\n",
       "    }\n",
       "\n",
       "    .dataframe thead th {\n",
       "        text-align: right;\n",
       "    }\n",
       "</style>\n",
       "<table border=\"1\" class=\"dataframe\">\n",
       "  <thead>\n",
       "    <tr style=\"text-align: right;\">\n",
       "      <th></th>\n",
       "      <th>No</th>\n",
       "      <th>trade_date</th>\n",
       "      <th>age</th>\n",
       "      <th>distance_to_MTR</th>\n",
       "      <th>number_of_stores</th>\n",
       "      <th>latitude</th>\n",
       "      <th>longitude</th>\n",
       "      <th>house_price_per_unit</th>\n",
       "    </tr>\n",
       "  </thead>\n",
       "  <tbody>\n",
       "    <tr>\n",
       "      <th>409</th>\n",
       "      <td>410</td>\n",
       "      <td>2013.000</td>\n",
       "      <td>13.7</td>\n",
       "      <td>4082.01500</td>\n",
       "      <td>0</td>\n",
       "      <td>24.94155</td>\n",
       "      <td>121.50381</td>\n",
       "      <td>15.4</td>\n",
       "    </tr>\n",
       "    <tr>\n",
       "      <th>410</th>\n",
       "      <td>411</td>\n",
       "      <td>2012.667</td>\n",
       "      <td>5.6</td>\n",
       "      <td>90.45606</td>\n",
       "      <td>9</td>\n",
       "      <td>24.97433</td>\n",
       "      <td>121.54310</td>\n",
       "      <td>50.0</td>\n",
       "    </tr>\n",
       "    <tr>\n",
       "      <th>411</th>\n",
       "      <td>412</td>\n",
       "      <td>2013.250</td>\n",
       "      <td>18.8</td>\n",
       "      <td>390.96960</td>\n",
       "      <td>7</td>\n",
       "      <td>24.97923</td>\n",
       "      <td>121.53986</td>\n",
       "      <td>40.6</td>\n",
       "    </tr>\n",
       "    <tr>\n",
       "      <th>412</th>\n",
       "      <td>413</td>\n",
       "      <td>2013.000</td>\n",
       "      <td>8.1</td>\n",
       "      <td>104.81010</td>\n",
       "      <td>5</td>\n",
       "      <td>24.96674</td>\n",
       "      <td>121.54067</td>\n",
       "      <td>52.5</td>\n",
       "    </tr>\n",
       "    <tr>\n",
       "      <th>413</th>\n",
       "      <td>414</td>\n",
       "      <td>2013.500</td>\n",
       "      <td>6.5</td>\n",
       "      <td>90.45606</td>\n",
       "      <td>9</td>\n",
       "      <td>24.97433</td>\n",
       "      <td>121.54310</td>\n",
       "      <td>63.9</td>\n",
       "    </tr>\n",
       "  </tbody>\n",
       "</table>\n",
       "</div>"
      ],
      "text/plain": [
       "      No  trade_date   age  distance_to_MTR  number_of_stores  latitude  \\\n",
       "409  410    2013.000  13.7       4082.01500                 0  24.94155   \n",
       "410  411    2012.667   5.6         90.45606                 9  24.97433   \n",
       "411  412    2013.250  18.8        390.96960                 7  24.97923   \n",
       "412  413    2013.000   8.1        104.81010                 5  24.96674   \n",
       "413  414    2013.500   6.5         90.45606                 9  24.97433   \n",
       "\n",
       "     longitude  house_price_per_unit  \n",
       "409  121.50381                  15.4  \n",
       "410  121.54310                  50.0  \n",
       "411  121.53986                  40.6  \n",
       "412  121.54067                  52.5  \n",
       "413  121.54310                  63.9  "
      ]
     },
     "execution_count": 37,
     "metadata": {},
     "output_type": "execute_result"
    }
   ],
   "source": [
    "df.tail()"
   ]
  },
  {
   "cell_type": "markdown",
   "id": "6b8c47e3",
   "metadata": {},
   "source": [
    "Checking whether there is any null value."
   ]
  },
  {
   "cell_type": "code",
   "execution_count": 2,
   "id": "da89d33f",
   "metadata": {},
   "outputs": [
    {
     "data": {
      "text/plain": [
       "No                      0\n",
       "trade_date              0\n",
       "age                     0\n",
       "distance_to_MTR         0\n",
       "number_of_stores        0\n",
       "latitude                0\n",
       "longitude               0\n",
       "house_price_per_unit    0\n",
       "dtype: int64"
      ]
     },
     "execution_count": 2,
     "metadata": {},
     "output_type": "execute_result"
    }
   ],
   "source": [
    "df.isnull().sum()"
   ]
  },
  {
   "cell_type": "markdown",
   "id": "da3ce6e8",
   "metadata": {},
   "source": [
    "As we can see there is no null value"
   ]
  },
  {
   "cell_type": "code",
   "execution_count": 3,
   "id": "2f77ccc4",
   "metadata": {},
   "outputs": [
    {
     "name": "stdout",
     "output_type": "stream",
     "text": [
      "<class 'pandas.core.frame.DataFrame'>\n",
      "RangeIndex: 414 entries, 0 to 413\n",
      "Data columns (total 8 columns):\n",
      " #   Column                Non-Null Count  Dtype  \n",
      "---  ------                --------------  -----  \n",
      " 0   No                    414 non-null    int64  \n",
      " 1   trade_date            414 non-null    float64\n",
      " 2   age                   414 non-null    float64\n",
      " 3   distance_to_MTR       414 non-null    float64\n",
      " 4   number_of_stores      414 non-null    int64  \n",
      " 5   latitude              414 non-null    float64\n",
      " 6   longitude             414 non-null    float64\n",
      " 7   house_price_per_unit  414 non-null    float64\n",
      "dtypes: float64(6), int64(2)\n",
      "memory usage: 26.0 KB\n"
     ]
    }
   ],
   "source": [
    "df.info()"
   ]
  },
  {
   "cell_type": "code",
   "execution_count": 4,
   "id": "e720a881",
   "metadata": {},
   "outputs": [
    {
     "data": {
      "text/html": [
       "<div>\n",
       "<style scoped>\n",
       "    .dataframe tbody tr th:only-of-type {\n",
       "        vertical-align: middle;\n",
       "    }\n",
       "\n",
       "    .dataframe tbody tr th {\n",
       "        vertical-align: top;\n",
       "    }\n",
       "\n",
       "    .dataframe thead th {\n",
       "        text-align: right;\n",
       "    }\n",
       "</style>\n",
       "<table border=\"1\" class=\"dataframe\">\n",
       "  <thead>\n",
       "    <tr style=\"text-align: right;\">\n",
       "      <th></th>\n",
       "      <th>No</th>\n",
       "      <th>trade_date</th>\n",
       "      <th>age</th>\n",
       "      <th>distance_to_MTR</th>\n",
       "      <th>number_of_stores</th>\n",
       "      <th>latitude</th>\n",
       "      <th>longitude</th>\n",
       "      <th>house_price_per_unit</th>\n",
       "    </tr>\n",
       "  </thead>\n",
       "  <tbody>\n",
       "    <tr>\n",
       "      <th>count</th>\n",
       "      <td>414.000000</td>\n",
       "      <td>414.000000</td>\n",
       "      <td>414.000000</td>\n",
       "      <td>414.000000</td>\n",
       "      <td>414.000000</td>\n",
       "      <td>414.000000</td>\n",
       "      <td>414.000000</td>\n",
       "      <td>414.000000</td>\n",
       "    </tr>\n",
       "    <tr>\n",
       "      <th>mean</th>\n",
       "      <td>207.500000</td>\n",
       "      <td>2013.148971</td>\n",
       "      <td>17.712560</td>\n",
       "      <td>1083.885689</td>\n",
       "      <td>4.094203</td>\n",
       "      <td>24.969030</td>\n",
       "      <td>121.533361</td>\n",
       "      <td>37.980193</td>\n",
       "    </tr>\n",
       "    <tr>\n",
       "      <th>std</th>\n",
       "      <td>119.655756</td>\n",
       "      <td>0.281967</td>\n",
       "      <td>11.392485</td>\n",
       "      <td>1262.109595</td>\n",
       "      <td>2.945562</td>\n",
       "      <td>0.012410</td>\n",
       "      <td>0.015347</td>\n",
       "      <td>13.606488</td>\n",
       "    </tr>\n",
       "    <tr>\n",
       "      <th>min</th>\n",
       "      <td>1.000000</td>\n",
       "      <td>2012.667000</td>\n",
       "      <td>0.000000</td>\n",
       "      <td>23.382840</td>\n",
       "      <td>0.000000</td>\n",
       "      <td>24.932070</td>\n",
       "      <td>121.473530</td>\n",
       "      <td>7.600000</td>\n",
       "    </tr>\n",
       "    <tr>\n",
       "      <th>25%</th>\n",
       "      <td>104.250000</td>\n",
       "      <td>2012.917000</td>\n",
       "      <td>9.025000</td>\n",
       "      <td>289.324800</td>\n",
       "      <td>1.000000</td>\n",
       "      <td>24.963000</td>\n",
       "      <td>121.528085</td>\n",
       "      <td>27.700000</td>\n",
       "    </tr>\n",
       "    <tr>\n",
       "      <th>50%</th>\n",
       "      <td>207.500000</td>\n",
       "      <td>2013.167000</td>\n",
       "      <td>16.100000</td>\n",
       "      <td>492.231300</td>\n",
       "      <td>4.000000</td>\n",
       "      <td>24.971100</td>\n",
       "      <td>121.538630</td>\n",
       "      <td>38.450000</td>\n",
       "    </tr>\n",
       "    <tr>\n",
       "      <th>75%</th>\n",
       "      <td>310.750000</td>\n",
       "      <td>2013.417000</td>\n",
       "      <td>28.150000</td>\n",
       "      <td>1454.279000</td>\n",
       "      <td>6.000000</td>\n",
       "      <td>24.977455</td>\n",
       "      <td>121.543305</td>\n",
       "      <td>46.600000</td>\n",
       "    </tr>\n",
       "    <tr>\n",
       "      <th>max</th>\n",
       "      <td>414.000000</td>\n",
       "      <td>2013.583000</td>\n",
       "      <td>43.800000</td>\n",
       "      <td>6488.021000</td>\n",
       "      <td>10.000000</td>\n",
       "      <td>25.014590</td>\n",
       "      <td>121.566270</td>\n",
       "      <td>117.500000</td>\n",
       "    </tr>\n",
       "  </tbody>\n",
       "</table>\n",
       "</div>"
      ],
      "text/plain": [
       "               No   trade_date         age  distance_to_MTR  number_of_stores  \\\n",
       "count  414.000000   414.000000  414.000000       414.000000        414.000000   \n",
       "mean   207.500000  2013.148971   17.712560      1083.885689          4.094203   \n",
       "std    119.655756     0.281967   11.392485      1262.109595          2.945562   \n",
       "min      1.000000  2012.667000    0.000000        23.382840          0.000000   \n",
       "25%    104.250000  2012.917000    9.025000       289.324800          1.000000   \n",
       "50%    207.500000  2013.167000   16.100000       492.231300          4.000000   \n",
       "75%    310.750000  2013.417000   28.150000      1454.279000          6.000000   \n",
       "max    414.000000  2013.583000   43.800000      6488.021000         10.000000   \n",
       "\n",
       "         latitude   longitude  house_price_per_unit  \n",
       "count  414.000000  414.000000            414.000000  \n",
       "mean    24.969030  121.533361             37.980193  \n",
       "std      0.012410    0.015347             13.606488  \n",
       "min     24.932070  121.473530              7.600000  \n",
       "25%     24.963000  121.528085             27.700000  \n",
       "50%     24.971100  121.538630             38.450000  \n",
       "75%     24.977455  121.543305             46.600000  \n",
       "max     25.014590  121.566270            117.500000  "
      ]
     },
     "execution_count": 4,
     "metadata": {},
     "output_type": "execute_result"
    }
   ],
   "source": [
    "df.describe()"
   ]
  },
  {
   "cell_type": "code",
   "execution_count": 5,
   "id": "b649e294",
   "metadata": {
    "scrolled": false
   },
   "outputs": [
    {
     "data": {
      "text/plain": [
       "Index(['No', 'trade_date', 'age', 'distance_to_MTR', 'number_of_stores',\n",
       "       'latitude', 'longitude', 'house_price_per_unit'],\n",
       "      dtype='object')"
      ]
     },
     "execution_count": 5,
     "metadata": {},
     "output_type": "execute_result"
    }
   ],
   "source": [
    "df.columns"
   ]
  },
  {
   "cell_type": "markdown",
   "id": "66ec6e73",
   "metadata": {},
   "source": [
    "## Plotting all the columns/charecteristics"
   ]
  },
  {
   "cell_type": "code",
   "execution_count": 30,
   "id": "cb840aba",
   "metadata": {},
   "outputs": [],
   "source": [
    "%matplotlib inline"
   ]
  },
  {
   "cell_type": "code",
   "execution_count": 31,
   "id": "3a5c5378",
   "metadata": {},
   "outputs": [],
   "source": [
    "import matplotlib.pyplot as plt"
   ]
  },
  {
   "cell_type": "code",
   "execution_count": 32,
   "id": "fdc82d75",
   "metadata": {},
   "outputs": [
    {
     "data": {
      "text/plain": [
       "array([[<AxesSubplot:title={'center':'No'}>,\n",
       "        <AxesSubplot:title={'center':'trade_date'}>,\n",
       "        <AxesSubplot:title={'center':'age'}>],\n",
       "       [<AxesSubplot:title={'center':'distance_to_MTR'}>,\n",
       "        <AxesSubplot:title={'center':'number_of_stores'}>,\n",
       "        <AxesSubplot:title={'center':'latitude'}>],\n",
       "       [<AxesSubplot:title={'center':'longitude'}>,\n",
       "        <AxesSubplot:title={'center':'house_price_per_unit'}>,\n",
       "        <AxesSubplot:>]], dtype=object)"
      ]
     },
     "execution_count": 32,
     "metadata": {},
     "output_type": "execute_result"
    },
    {
     "data": {
      "image/png": "[encoded data removed]",
      "text/plain": [
       "<Figure size 1440x1080 with 9 Axes>"
      ]
     },
     "metadata": {
      "needs_background": "light"
     },
     "output_type": "display_data"
    }
   ],
   "source": [
    "df.hist(bins = 50 , figsize = (20,15))"
   ]
  },
  {
   "cell_type": "markdown",
   "id": "7d78067f",
   "metadata": {},
   "source": [
    "## Heatmap plotting"
   ]
  },
  {
   "cell_type": "code",
   "execution_count": 34,
   "id": "c0622670",
   "metadata": {},
   "outputs": [],
   "source": [
    "import seaborn as sns"
   ]
  },
  {
   "cell_type": "code",
   "execution_count": 35,
   "id": "ed412458",
   "metadata": {},
   "outputs": [
    {
     "data": {
      "text/plain": [
       "<AxesSubplot:>"
      ]
     },
     "execution_count": 35,
     "metadata": {},
     "output_type": "execute_result"
    },
    {
     "data": {
      "image/png": "[encoded data removed]",
      "text/plain": [
       "<Figure size 1440x720 with 2 Axes>"
      ]
     },
     "metadata": {
      "needs_background": "light"
     },
     "output_type": "display_data"
    }
   ],
   "source": [
    "plt.figure(figsize=(20, 10))\n",
    "sns.heatmap(df.corr().abs(),  annot=True)\n"
   ]
  },
  {
   "cell_type": "markdown",
   "id": "b40aa9c7",
   "metadata": {},
   "source": [
    "## Separating the data \"housing_price_per_unit\" and all the other charecteristics"
   ]
  },
  {
   "cell_type": "code",
   "execution_count": 15,
   "id": "7cbb3ce8",
   "metadata": {},
   "outputs": [],
   "source": [
    "X = df.drop(columns=[\"house_price_per_unit\"])\n",
    "y = df[\"house_price_per_unit\"]"
   ]
  },
  {
   "cell_type": "markdown",
   "id": "38860abd",
   "metadata": {},
   "source": [
    "## Separating the training data and testing data"
   ]
  },
  {
   "cell_type": "code",
   "execution_count": 7,
   "id": "78b506ff",
   "metadata": {},
   "outputs": [],
   "source": [
    "from sklearn.model_selection import train_test_split\n"
   ]
  },
  {
   "cell_type": "code",
   "execution_count": 20,
   "id": "2ef7c73d",
   "metadata": {},
   "outputs": [],
   "source": [
    "X_train,X_test,y_train,y_test = train_test_split(X,y , test_size = 0.2 , random_state = 42)"
   ]
  },
  {
   "cell_type": "code",
   "execution_count": 21,
   "id": "cffbb9c1",
   "metadata": {},
   "outputs": [
    {
     "data": {
      "text/html": [
       "<div>\n",
       "<style scoped>\n",
       "    .dataframe tbody tr th:only-of-type {\n",
       "        vertical-align: middle;\n",
       "    }\n",
       "\n",
       "    .dataframe tbody tr th {\n",
       "        vertical-align: top;\n",
       "    }\n",
       "\n",
       "    .dataframe thead th {\n",
       "        text-align: right;\n",
       "    }\n",
       "</style>\n",
       "<table border=\"1\" class=\"dataframe\">\n",
       "  <thead>\n",
       "    <tr style=\"text-align: right;\">\n",
       "      <th></th>\n",
       "      <th>No</th>\n",
       "      <th>trade_date</th>\n",
       "      <th>age</th>\n",
       "      <th>distance_to_MTR</th>\n",
       "      <th>number_of_stores</th>\n",
       "      <th>latitude</th>\n",
       "      <th>longitude</th>\n",
       "    </tr>\n",
       "  </thead>\n",
       "  <tbody>\n",
       "    <tr>\n",
       "      <th>192</th>\n",
       "      <td>193</td>\n",
       "      <td>2013.167</td>\n",
       "      <td>43.8</td>\n",
       "      <td>57.58945</td>\n",
       "      <td>7</td>\n",
       "      <td>24.96750</td>\n",
       "      <td>121.54069</td>\n",
       "    </tr>\n",
       "    <tr>\n",
       "      <th>234</th>\n",
       "      <td>235</td>\n",
       "      <td>2013.250</td>\n",
       "      <td>8.0</td>\n",
       "      <td>2216.61200</td>\n",
       "      <td>4</td>\n",
       "      <td>24.96007</td>\n",
       "      <td>121.51361</td>\n",
       "    </tr>\n",
       "    <tr>\n",
       "      <th>5</th>\n",
       "      <td>6</td>\n",
       "      <td>2012.667</td>\n",
       "      <td>7.1</td>\n",
       "      <td>2175.03000</td>\n",
       "      <td>3</td>\n",
       "      <td>24.96305</td>\n",
       "      <td>121.51254</td>\n",
       "    </tr>\n",
       "    <tr>\n",
       "      <th>45</th>\n",
       "      <td>46</td>\n",
       "      <td>2013.083</td>\n",
       "      <td>36.6</td>\n",
       "      <td>488.81930</td>\n",
       "      <td>8</td>\n",
       "      <td>24.97015</td>\n",
       "      <td>121.54494</td>\n",
       "    </tr>\n",
       "    <tr>\n",
       "      <th>245</th>\n",
       "      <td>246</td>\n",
       "      <td>2013.417</td>\n",
       "      <td>7.5</td>\n",
       "      <td>639.61980</td>\n",
       "      <td>5</td>\n",
       "      <td>24.97258</td>\n",
       "      <td>121.54814</td>\n",
       "    </tr>\n",
       "    <tr>\n",
       "      <th>...</th>\n",
       "      <td>...</td>\n",
       "      <td>...</td>\n",
       "      <td>...</td>\n",
       "      <td>...</td>\n",
       "      <td>...</td>\n",
       "      <td>...</td>\n",
       "      <td>...</td>\n",
       "    </tr>\n",
       "    <tr>\n",
       "      <th>71</th>\n",
       "      <td>72</td>\n",
       "      <td>2013.083</td>\n",
       "      <td>35.5</td>\n",
       "      <td>640.73910</td>\n",
       "      <td>3</td>\n",
       "      <td>24.97563</td>\n",
       "      <td>121.53715</td>\n",
       "    </tr>\n",
       "    <tr>\n",
       "      <th>106</th>\n",
       "      <td>107</td>\n",
       "      <td>2013.083</td>\n",
       "      <td>17.2</td>\n",
       "      <td>189.51810</td>\n",
       "      <td>8</td>\n",
       "      <td>24.97707</td>\n",
       "      <td>121.54308</td>\n",
       "    </tr>\n",
       "    <tr>\n",
       "      <th>270</th>\n",
       "      <td>271</td>\n",
       "      <td>2013.333</td>\n",
       "      <td>10.8</td>\n",
       "      <td>252.58220</td>\n",
       "      <td>1</td>\n",
       "      <td>24.97460</td>\n",
       "      <td>121.53046</td>\n",
       "    </tr>\n",
       "    <tr>\n",
       "      <th>348</th>\n",
       "      <td>349</td>\n",
       "      <td>2012.833</td>\n",
       "      <td>4.6</td>\n",
       "      <td>259.66070</td>\n",
       "      <td>6</td>\n",
       "      <td>24.97585</td>\n",
       "      <td>121.54516</td>\n",
       "    </tr>\n",
       "    <tr>\n",
       "      <th>102</th>\n",
       "      <td>103</td>\n",
       "      <td>2013.083</td>\n",
       "      <td>1.1</td>\n",
       "      <td>193.58450</td>\n",
       "      <td>6</td>\n",
       "      <td>24.96571</td>\n",
       "      <td>121.54089</td>\n",
       "    </tr>\n",
       "  </tbody>\n",
       "</table>\n",
       "<p>331 rows × 7 columns</p>\n",
       "</div>"
      ],
      "text/plain": [
       "      No  trade_date   age  distance_to_MTR  number_of_stores  latitude  \\\n",
       "192  193    2013.167  43.8         57.58945                 7  24.96750   \n",
       "234  235    2013.250   8.0       2216.61200                 4  24.96007   \n",
       "5      6    2012.667   7.1       2175.03000                 3  24.96305   \n",
       "45    46    2013.083  36.6        488.81930                 8  24.97015   \n",
       "245  246    2013.417   7.5        639.61980                 5  24.97258   \n",
       "..   ...         ...   ...              ...               ...       ...   \n",
       "71    72    2013.083  35.5        640.73910                 3  24.97563   \n",
       "106  107    2013.083  17.2        189.51810                 8  24.97707   \n",
       "270  271    2013.333  10.8        252.58220                 1  24.97460   \n",
       "348  349    2012.833   4.6        259.66070                 6  24.97585   \n",
       "102  103    2013.083   1.1        193.58450                 6  24.96571   \n",
       "\n",
       "     longitude  \n",
       "192  121.54069  \n",
       "234  121.51361  \n",
       "5    121.51254  \n",
       "45   121.54494  \n",
       "245  121.54814  \n",
       "..         ...  \n",
       "71   121.53715  \n",
       "106  121.54308  \n",
       "270  121.53046  \n",
       "348  121.54516  \n",
       "102  121.54089  \n",
       "\n",
       "[331 rows x 7 columns]"
      ]
     },
     "execution_count": 21,
     "metadata": {},
     "output_type": "execute_result"
    }
   ],
   "source": [
    "X_train"
   ]
  },
  {
   "cell_type": "code",
   "execution_count": 22,
   "id": "1553355a",
   "metadata": {},
   "outputs": [
    {
     "data": {
      "text/html": [
       "<div>\n",
       "<style scoped>\n",
       "    .dataframe tbody tr th:only-of-type {\n",
       "        vertical-align: middle;\n",
       "    }\n",
       "\n",
       "    .dataframe tbody tr th {\n",
       "        vertical-align: top;\n",
       "    }\n",
       "\n",
       "    .dataframe thead th {\n",
       "        text-align: right;\n",
       "    }\n",
       "</style>\n",
       "<table border=\"1\" class=\"dataframe\">\n",
       "  <thead>\n",
       "    <tr style=\"text-align: right;\">\n",
       "      <th></th>\n",
       "      <th>No</th>\n",
       "      <th>trade_date</th>\n",
       "      <th>age</th>\n",
       "      <th>distance_to_MTR</th>\n",
       "      <th>number_of_stores</th>\n",
       "      <th>latitude</th>\n",
       "      <th>longitude</th>\n",
       "    </tr>\n",
       "  </thead>\n",
       "  <tbody>\n",
       "    <tr>\n",
       "      <th>358</th>\n",
       "      <td>359</td>\n",
       "      <td>2013.167</td>\n",
       "      <td>1.1</td>\n",
       "      <td>193.5845</td>\n",
       "      <td>6</td>\n",
       "      <td>24.96571</td>\n",
       "      <td>121.54089</td>\n",
       "    </tr>\n",
       "    <tr>\n",
       "      <th>350</th>\n",
       "      <td>351</td>\n",
       "      <td>2013.000</td>\n",
       "      <td>13.2</td>\n",
       "      <td>492.2313</td>\n",
       "      <td>5</td>\n",
       "      <td>24.96515</td>\n",
       "      <td>121.53737</td>\n",
       "    </tr>\n",
       "    <tr>\n",
       "      <th>373</th>\n",
       "      <td>374</td>\n",
       "      <td>2013.083</td>\n",
       "      <td>0.0</td>\n",
       "      <td>274.0144</td>\n",
       "      <td>1</td>\n",
       "      <td>24.97480</td>\n",
       "      <td>121.53059</td>\n",
       "    </tr>\n",
       "    <tr>\n",
       "      <th>399</th>\n",
       "      <td>400</td>\n",
       "      <td>2012.917</td>\n",
       "      <td>12.7</td>\n",
       "      <td>170.1289</td>\n",
       "      <td>1</td>\n",
       "      <td>24.97371</td>\n",
       "      <td>121.52984</td>\n",
       "    </tr>\n",
       "    <tr>\n",
       "      <th>369</th>\n",
       "      <td>370</td>\n",
       "      <td>2012.667</td>\n",
       "      <td>20.2</td>\n",
       "      <td>2185.1280</td>\n",
       "      <td>3</td>\n",
       "      <td>24.96322</td>\n",
       "      <td>121.51237</td>\n",
       "    </tr>\n",
       "    <tr>\n",
       "      <th>...</th>\n",
       "      <td>...</td>\n",
       "      <td>...</td>\n",
       "      <td>...</td>\n",
       "      <td>...</td>\n",
       "      <td>...</td>\n",
       "      <td>...</td>\n",
       "      <td>...</td>\n",
       "    </tr>\n",
       "    <tr>\n",
       "      <th>31</th>\n",
       "      <td>32</td>\n",
       "      <td>2012.750</td>\n",
       "      <td>29.6</td>\n",
       "      <td>769.4034</td>\n",
       "      <td>7</td>\n",
       "      <td>24.98281</td>\n",
       "      <td>121.53408</td>\n",
       "    </tr>\n",
       "    <tr>\n",
       "      <th>283</th>\n",
       "      <td>284</td>\n",
       "      <td>2013.417</td>\n",
       "      <td>33.5</td>\n",
       "      <td>1978.6710</td>\n",
       "      <td>2</td>\n",
       "      <td>24.98674</td>\n",
       "      <td>121.51844</td>\n",
       "    </tr>\n",
       "    <tr>\n",
       "      <th>157</th>\n",
       "      <td>158</td>\n",
       "      <td>2013.250</td>\n",
       "      <td>16.1</td>\n",
       "      <td>815.9314</td>\n",
       "      <td>4</td>\n",
       "      <td>24.97886</td>\n",
       "      <td>121.53464</td>\n",
       "    </tr>\n",
       "    <tr>\n",
       "      <th>203</th>\n",
       "      <td>204</td>\n",
       "      <td>2012.667</td>\n",
       "      <td>15.6</td>\n",
       "      <td>289.3248</td>\n",
       "      <td>5</td>\n",
       "      <td>24.98203</td>\n",
       "      <td>121.54348</td>\n",
       "    </tr>\n",
       "    <tr>\n",
       "      <th>208</th>\n",
       "      <td>209</td>\n",
       "      <td>2012.750</td>\n",
       "      <td>11.5</td>\n",
       "      <td>1360.1390</td>\n",
       "      <td>1</td>\n",
       "      <td>24.95204</td>\n",
       "      <td>121.54842</td>\n",
       "    </tr>\n",
       "  </tbody>\n",
       "</table>\n",
       "<p>83 rows × 7 columns</p>\n",
       "</div>"
      ],
      "text/plain": [
       "      No  trade_date   age  distance_to_MTR  number_of_stores  latitude  \\\n",
       "358  359    2013.167   1.1         193.5845                 6  24.96571   \n",
       "350  351    2013.000  13.2         492.2313                 5  24.96515   \n",
       "373  374    2013.083   0.0         274.0144                 1  24.97480   \n",
       "399  400    2012.917  12.7         170.1289                 1  24.97371   \n",
       "369  370    2012.667  20.2        2185.1280                 3  24.96322   \n",
       "..   ...         ...   ...              ...               ...       ...   \n",
       "31    32    2012.750  29.6         769.4034                 7  24.98281   \n",
       "283  284    2013.417  33.5        1978.6710                 2  24.98674   \n",
       "157  158    2013.250  16.1         815.9314                 4  24.97886   \n",
       "203  204    2012.667  15.6         289.3248                 5  24.98203   \n",
       "208  209    2012.750  11.5        1360.1390                 1  24.95204   \n",
       "\n",
       "     longitude  \n",
       "358  121.54089  \n",
       "350  121.53737  \n",
       "373  121.53059  \n",
       "399  121.52984  \n",
       "369  121.51237  \n",
       "..         ...  \n",
       "31   121.53408  \n",
       "283  121.51844  \n",
       "157  121.53464  \n",
       "203  121.54348  \n",
       "208  121.54842  \n",
       "\n",
       "[83 rows x 7 columns]"
      ]
     },
     "execution_count": 22,
     "metadata": {},
     "output_type": "execute_result"
    }
   ],
   "source": [
    "X_test"
   ]
  },
  {
   "cell_type": "code",
   "execution_count": 23,
   "id": "be4bf02d",
   "metadata": {},
   "outputs": [
    {
     "data": {
      "text/plain": [
       "192     42.7\n",
       "234     23.9\n",
       "5       32.1\n",
       "45      38.3\n",
       "245     40.8\n",
       "       ...  \n",
       "71      40.8\n",
       "106     47.1\n",
       "270    117.5\n",
       "348     53.7\n",
       "102     54.4\n",
       "Name: house_price_per_unit, Length: 331, dtype: float64"
      ]
     },
     "execution_count": 23,
     "metadata": {},
     "output_type": "execute_result"
    }
   ],
   "source": [
    "y_train"
   ]
  },
  {
   "cell_type": "code",
   "execution_count": null,
   "id": "ccd639f7",
   "metadata": {},
   "outputs": [],
   "source": [
    "# from sklearn.model_selection import StratifiedShuffleSplit\n",
    "# split = StratifiedShuffleSplit(n_splits=1, test_size=0.2, random_state=42)\n",
    "# for train_index, test_index in split.split(df, df['CHAS']):\n",
    "#     strat_train_set = df.loc[train_index]\n",
    "#     strat_test_set = df.loc[test_index]\n",
    "    "
   ]
  },
  {
   "cell_type": "markdown",
   "id": "99158eec",
   "metadata": {},
   "source": [
    "## Creating a model - Linear Regression"
   ]
  },
  {
   "cell_type": "code",
   "execution_count": 12,
   "id": "78050b94",
   "metadata": {},
   "outputs": [],
   "source": [
    "from sklearn.linear_model import LinearRegression"
   ]
  },
  {
   "cell_type": "code",
   "execution_count": 24,
   "id": "6e891904",
   "metadata": {},
   "outputs": [
    {
     "data": {
      "text/plain": [
       "LinearRegression()"
      ]
     },
     "execution_count": 24,
     "metadata": {},
     "output_type": "execute_result"
    }
   ],
   "source": [
    "model = LinearRegression()\n",
    "model.fit(X_train,y_train)"
   ]
  },
  {
   "cell_type": "code",
   "execution_count": 26,
   "id": "727b34c7",
   "metadata": {},
   "outputs": [
    {
     "data": {
      "text/plain": [
       "array([47.04645871, 40.40783016, 43.37463978, 39.20600382, 26.62817953,\n",
       "       45.8923956 , 44.33888897, 46.74448468, 24.43235155, 55.06258487,\n",
       "       34.60848974, 36.92386329, 36.76420984, 24.30494918, 35.79519845,\n",
       "       33.44810036, 44.24993318, 44.98654734, 29.18096544, 44.80711275,\n",
       "        1.15259949, 36.10694406, 47.26486776, 45.90792727, 10.96198835,\n",
       "       38.69069634, 12.57701679, 43.61237869, 35.7142565 , 37.55475044,\n",
       "       14.14012034, 40.46209983, 35.90891223, 28.5174525 , 47.38286733,\n",
       "       30.9022379 , 50.43545093, 12.92669013, 48.95222574, 39.27068588,\n",
       "       39.3872837 , 40.09381011, 48.20107097, 37.08010208, 39.54765933,\n",
       "       47.348201  , 43.3815801 , 21.07747224, 47.05299802, 44.57951775,\n",
       "       48.24233055, 48.12297596, 41.42189435, 42.25141469, 36.32214409,\n",
       "       15.69024514, 37.64733588, 35.12221291, 29.08561558, 46.86297981,\n",
       "       32.07763941, 33.25961566, 15.22965501,  9.01697131,  9.37929873,\n",
       "       33.78712833, 29.59931587, 47.50139803, 33.81312917, 31.84174056,\n",
       "       46.48732668, 38.98112924, 46.72835605, 45.6962431 , 35.99239567,\n",
       "       38.58963559, 38.0020306 , 36.55979271, 41.37412002, 32.65154281,\n",
       "       42.60853061, 43.39877883, 28.50857059])"
      ]
     },
     "execution_count": 26,
     "metadata": {},
     "output_type": "execute_result"
    }
   ],
   "source": [
    "prediction=model.predict(X_test)\n",
    "prediction"
   ]
  },
  {
   "cell_type": "code",
   "execution_count": 47,
   "id": "a1f185e8",
   "metadata": {
    "scrolled": true
   },
   "outputs": [
    {
     "data": {
      "text/plain": [
       "0.6745228670350871"
      ]
     },
     "execution_count": 47,
     "metadata": {},
     "output_type": "execute_result"
    }
   ],
   "source": [
    "model.score(X_test,y_test)"
   ]
  },
  {
   "cell_type": "markdown",
   "id": "fbb1f9f1",
   "metadata": {},
   "source": [
    "## Evaluation of Linear Regression Model"
   ]
  },
  {
   "cell_type": "code",
   "execution_count": 39,
   "id": "fcd5e416",
   "metadata": {},
   "outputs": [],
   "source": [
    "import numpy as np"
   ]
  },
  {
   "cell_type": "code",
   "execution_count": 50,
   "id": "f9c1c66d",
   "metadata": {
    "scrolled": true
   },
   "outputs": [
    {
     "data": {
      "text/plain": [
       "7.389313951469184"
      ]
     },
     "execution_count": 50,
     "metadata": {},
     "output_type": "execute_result"
    }
   ],
   "source": [
    "from sklearn.metrics import mean_squared_error\n",
    "predictions = model.predict(X_test)\n",
    "error = mean_squared_error(y_test,predictions)\n",
    "rooted_mse = np.sqrt(error)\n",
    "rooted_mse"
   ]
  },
  {
   "cell_type": "markdown",
   "id": "9a3785f5",
   "metadata": {},
   "source": [
    "## Creating another model - Random Forest Regressor"
   ]
  },
  {
   "cell_type": "code",
   "execution_count": 27,
   "id": "a3a08a0d",
   "metadata": {},
   "outputs": [],
   "source": [
    "from sklearn.ensemble import RandomForestRegressor"
   ]
  },
  {
   "cell_type": "code",
   "execution_count": 28,
   "id": "cb3270a2",
   "metadata": {},
   "outputs": [
    {
     "data": {
      "text/plain": [
       "RandomForestRegressor()"
      ]
     },
     "execution_count": 28,
     "metadata": {},
     "output_type": "execute_result"
    }
   ],
   "source": [
    "model_2 = RandomForestRegressor()\n",
    "model_2.fit(X_train , y_train)"
   ]
  },
  {
   "cell_type": "code",
   "execution_count": 38,
   "id": "43a7f2ae",
   "metadata": {},
   "outputs": [
    {
     "data": {
      "text/plain": [
       "array([47.216, 39.903, 57.725, 36.914, 26.123, 46.718, 47.903, 51.597,\n",
       "       14.824, 60.027, 24.795, 30.889, 35.174, 14.872, 37.513, 24.99 ,\n",
       "       39.744, 50.525, 25.648, 38.763, 14.933, 23.88 , 47.759, 45.897,\n",
       "       15.451, 37.174, 16.953, 58.794, 51.372, 38.55 , 20.198, 24.567,\n",
       "       36.335, 25.542, 47.853, 38.044, 53.162, 17.006, 45.505, 52.06 ,\n",
       "       49.673, 40.204, 48.884, 38.928, 40.472, 50.275, 35.774, 23.659,\n",
       "       47.178, 45.538, 48.14 , 52.893, 39.926, 38.707, 40.239, 14.765,\n",
       "       38.137, 27.353, 25.011, 51.861, 27.226, 23.267, 15.233, 14.633,\n",
       "       21.432, 24.251, 25.476, 41.26 , 36.361, 27.537, 42.49 , 52.065,\n",
       "       53.229, 50.575, 35.889, 37.628, 39.379, 38.395, 42.057, 32.178,\n",
       "       38.32 , 48.258, 27.079])"
      ]
     },
     "execution_count": 38,
     "metadata": {},
     "output_type": "execute_result"
    }
   ],
   "source": [
    "prediction=model_2.predict(X_test)\n",
    "prediction"
   ]
  },
  {
   "cell_type": "code",
   "execution_count": 58,
   "id": "709cc851",
   "metadata": {
    "scrolled": true
   },
   "outputs": [
    {
     "data": {
      "text/plain": [
       "0.7931654495744593"
      ]
     },
     "execution_count": 58,
     "metadata": {},
     "output_type": "execute_result"
    }
   ],
   "source": [
    "model_2.score(X_test,y_test)"
   ]
  },
  {
   "cell_type": "markdown",
   "id": "3fe3ead4",
   "metadata": {},
   "source": [
    "## Evaluation of Random Forest Regressor model"
   ]
  },
  {
   "cell_type": "code",
   "execution_count": 59,
   "id": "ea2acfed",
   "metadata": {},
   "outputs": [
    {
     "data": {
      "text/plain": [
       "5.890544230998473"
      ]
     },
     "execution_count": 59,
     "metadata": {},
     "output_type": "execute_result"
    }
   ],
   "source": [
    "\n",
    "predictions = model_2.predict(X_test)\n",
    "error = mean_squared_error(y_test , predictions)\n",
    "rooted_mse = np.sqrt(error)\n",
    "rooted_mse"
   ]
  },
  {
   "cell_type": "markdown",
   "id": "cd3c4263",
   "metadata": {},
   "source": [
    "## CONCLUSION"
   ]
  },
  {
   "cell_type": "markdown",
   "id": "3eab1af0",
   "metadata": {},
   "source": [
    " From the evaluations of both the models Linear Regression and Random Forest Regression it is clear that Random Forest Regression is the better model here as it has the lowest rmse(Rooted Mean Square) and also has the best score."
   ]
  },
  {
   "cell_type": "code",
   "execution_count": null,
   "id": "43a1b416",
   "metadata": {},
   "outputs": [],
   "source": []
  }
 ],
 "metadata": {
  "kernelspec": {
   "display_name": "Python 3",
   "language": "python",
   "name": "python3"
  },
  "language_info": {
   "codemirror_mode": {
    "name": "ipython",
    "version": 3
   },
   "file_extension": ".py",
   "mimetype": "text/x-python",
   "name": "python",
   "nbconvert_exporter": "python",
   "pygments_lexer": "ipython3",
   "version": "3.8.8"
  }
 },
 "nbformat": 4,
 "nbformat_minor": 5
}
